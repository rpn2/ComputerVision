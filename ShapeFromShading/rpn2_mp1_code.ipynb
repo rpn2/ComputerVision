{
 "cells": [
  {
   "cell_type": "markdown",
   "metadata": {},
   "source": [
    "# Common imports"
   ]
  },
  {
   "cell_type": "code",
   "execution_count": null,
   "metadata": {},
   "outputs": [],
   "source": [
    "#%matplotlib inline\n",
    "import os\n",
    "import sys\n",
    "import glob\n",
    "import re\n",
    "import numpy as np\n",
    "import matplotlib\n",
    "import matplotlib.pyplot as plt\n",
    "from mpl_toolkits.mplot3d import Axes3D\n",
    "from PIL import Image\n",
    "import copy\n",
    "import time"
   ]
  },
  {
   "cell_type": "markdown",
   "metadata": {},
   "source": [
    "# Provided functions\n",
    "### Image loading and saving"
   ]
  },
  {
   "cell_type": "code",
   "execution_count": null,
   "metadata": {},
   "outputs": [],
   "source": [
    "def LoadFaceImages(pathname, subject_name, num_images):\n",
    "    \"\"\"\n",
    "    Load the set of face images.  \n",
    "    The routine returns\n",
    "        ambimage: image illuminated under the ambient lighting\n",
    "        imarray: a 3-D array of images, h x w x Nimages\n",
    "        lightdirs: Nimages x 3 array of light source directions\n",
    "    \"\"\"\n",
    "\n",
    "    def load_image(fname):\n",
    "        return np.asarray(Image.open(fname))\n",
    "\n",
    "    def fname_to_ang(fname):\n",
    "        yale_name = os.path.basename(fname)\n",
    "        return int(yale_name[12:16]), int(yale_name[17:20])\n",
    "\n",
    "    def sph2cart(az, el, r):\n",
    "        rcos_theta = r * np.cos(el)\n",
    "        x = rcos_theta * np.cos(az)\n",
    "        y = rcos_theta * np.sin(az)\n",
    "        z = r * np.sin(el)\n",
    "        return x, y, z\n",
    "\n",
    "    ambimage = load_image(\n",
    "        os.path.join(pathname, subject_name + '_P00_Ambient.pgm'))\n",
    "    im_list = glob.glob(os.path.join(pathname, subject_name + '_P00A*.pgm'))\n",
    "    if num_images <= len(im_list):\n",
    "        im_sub_list = np.random.choice(im_list, num_images, replace=False)\n",
    "    else:\n",
    "        print(\n",
    "            'Total available images is less than specified.\\nProceeding with %d images.\\n'\n",
    "            % len(im_list))\n",
    "        im_sub_list = im_list\n",
    "    im_sub_list.sort()\n",
    "    imarray = np.stack([load_image(fname) for fname in im_sub_list], axis=-1)\n",
    "    Ang = np.array([fname_to_ang(fname) for fname in im_sub_list])\n",
    "\n",
    "    x, y, z = sph2cart(Ang[:, 0] / 180.0 * np.pi, Ang[:, 1] / 180.0 * np.pi, 1)\n",
    "    lightdirs = np.stack([y, z, x], axis=-1)\n",
    "    return ambimage, imarray, lightdirs"
   ]
  },
  {
   "cell_type": "code",
   "execution_count": null,
   "metadata": {},
   "outputs": [],
   "source": [
    "def save_outputs(subject_name, albedo_image, surface_normals):\n",
    "    im = Image.fromarray((albedo_image*255).astype(np.uint8))\n",
    "    im.save(\"%s_albedo.jpg\" % subject_name)\n",
    "    im = Image.fromarray((surface_normals[:,:,0]*128+128).astype(np.uint8))\n",
    "    im.save(\"%s_normals_x.jpg\" % subject_name)\n",
    "    im = Image.fromarray((surface_normals[:,:,1]*128+128).astype(np.uint8))\n",
    "    im.save(\"%s_normals_y.jpg\" % subject_name)\n",
    "    im = Image.fromarray((surface_normals[:,:,2]*128+128).astype(np.uint8))\n",
    "    im.save(\"%s_normals_z.jpg\" % subject_name)"
   ]
  },
  {
   "cell_type": "markdown",
   "metadata": {},
   "source": [
    "### Plot the height map"
   ]
  },
  {
   "cell_type": "code",
   "execution_count": null,
   "metadata": {},
   "outputs": [],
   "source": [
    "def set_aspect_equal_3d(ax):\n",
    "    \"\"\"https://stackoverflow.com/questions/13685386\"\"\"\n",
    "    \"\"\"Fix equal aspect bug for 3D plots.\"\"\"\n",
    "    xlim = ax.get_xlim3d()\n",
    "    ylim = ax.get_ylim3d()\n",
    "    zlim = ax.get_zlim3d()\n",
    "    from numpy import mean\n",
    "    xmean = mean(xlim)\n",
    "    ymean = mean(ylim)\n",
    "    zmean = mean(zlim)\n",
    "    plot_radius = max([\n",
    "        abs(lim - mean_)\n",
    "        for lims, mean_ in ((xlim, xmean), (ylim, ymean), (zlim, zmean))\n",
    "        for lim in lims\n",
    "    ])\n",
    "    ax.set_xlim3d([xmean - plot_radius, xmean + plot_radius])\n",
    "    ax.set_ylim3d([ymean - plot_radius, ymean + plot_radius])\n",
    "    ax.set_zlim3d([zmean - plot_radius, zmean + plot_radius])\n",
    "\n",
    "\n",
    "def display_output(albedo_image, height_map):\n",
    "    fig = plt.figure()\n",
    "    plt.imshow(albedo_image, cmap='gray')\n",
    "    plt.axis('off')\n",
    "    \n",
    "    fig = plt.figure(figsize=(10, 10))\n",
    "    ax = fig.gca(projection='3d')\n",
    "    ax.view_init(20, 20)\n",
    "    X = np.arange(albedo_image.shape[0])\n",
    "    Y = np.arange(albedo_image.shape[1])\n",
    "    X, Y = np.meshgrid(Y, X)\n",
    "    H = np.flipud(np.fliplr(height_map))\n",
    "    A = np.flipud(np.fliplr(albedo_image))\n",
    "    A = np.stack([A, A, A], axis=-1)\n",
    "    ax.xaxis.set_ticks([])\n",
    "    ax.xaxis.set_label_text('Z')\n",
    "    ax.yaxis.set_ticks([])\n",
    "    ax.yaxis.set_label_text('X')\n",
    "    ax.zaxis.set_ticks([])\n",
    "    ax.yaxis.set_label_text('Y')\n",
    "    surf = ax.plot_surface(\n",
    "        H, X, Y, cmap='gray', facecolors=A, linewidth=0, antialiased=False)\n",
    "    set_aspect_equal_3d(ax)"
   ]
  },
  {
   "cell_type": "markdown",
   "metadata": {},
   "source": [
    "### Plot the surface norms. "
   ]
  },
  {
   "cell_type": "code",
   "execution_count": null,
   "metadata": {},
   "outputs": [],
   "source": [
    "def plot_surface_normals(surface_normals):\n",
    "    \"\"\"\n",
    "    surface_normals: h x w x 3 matrix.\n",
    "    \"\"\"\n",
    "    fig = plt.figure()\n",
    "    ax = plt.subplot(1, 3, 1)\n",
    "    ax.axis('off')\n",
    "    ax.set_title('X')\n",
    "    im = ax.imshow(surface_normals[:,:,0])\n",
    "    ax = plt.subplot(1, 3, 2)\n",
    "    ax.axis('off')\n",
    "    ax.set_title('Y')\n",
    "    im = ax.imshow(surface_normals[:,:,1])\n",
    "    ax = plt.subplot(1, 3, 3)\n",
    "    ax.axis('off')\n",
    "    ax.set_title('Z')\n",
    "    im = ax.imshow(surface_normals[:,:,2])"
   ]
  },
  {
   "cell_type": "markdown",
   "metadata": {},
   "source": [
    "# Your implementation"
   ]
  },
  {
   "cell_type": "code",
   "execution_count": null,
   "metadata": {},
   "outputs": [],
   "source": [
    "def preprocess(ambimage, imarray):\n",
    "    \"\"\"\n",
    "    preprocess the data: \n",
    "        1. subtract ambient_image from each image in imarray.\n",
    "        2. make sure no pixel is less than zero.\n",
    "        3. rescale values in imarray to be between 0 and 1.\n",
    "    Inputs:\n",
    "        ambimage: h x w\n",
    "        imarray: h x w x Nimages\n",
    "    Outputs:\n",
    "        processed_imarray: h x w x Nimages\n",
    "    \"\"\"\n",
    "    \n",
    "    ambimage_cpy = copy.deepcopy(ambimage)\n",
    "    #imarray_cpy = copy.deepcopy(imarray)\n",
    "    imarray_cpy = imarray\n",
    "    processed_imarray = np.clip(imarray_cpy - ambimage_cpy[..., np.newaxis], 0, 255)\n",
    "    processed_imarray = processed_imarray/255\n",
    "    return processed_imarray"
   ]
  },
  {
   "cell_type": "code",
   "execution_count": null,
   "metadata": {},
   "outputs": [],
   "source": [
    "def photometric_stereo(imarray, light_dirs):\n",
    "    \"\"\"\n",
    "    Inputs:\n",
    "        imarray:  h x w x Nimages\n",
    "        light_dirs: Nimages x 3\n",
    "    Outputs:\n",
    "        albedo_image: h x w\n",
    "        surface_norms: h x w x 3\n",
    "    \"\"\"\n",
    "    #light_dirs_cpy = copy.deepcopy(light_dirs)\n",
    "    #imarray_cpy = copy.deepcopy(imarray)\n",
    "    light_dirs_cpy = light_dirs\n",
    "    imarray_cpy = imarray\n",
    "    size_arr = imarray_cpy.shape    \n",
    "    imarray_cpy = imarray_cpy.T.reshape(size_arr[2],size_arr[1]*size_arr[0])    \n",
    "    gxy = np.linalg.lstsq(light_dirs_cpy,imarray_cpy,rcond=-1)[0]\n",
    "    #print(\"LSS range\", np.amax(gxy), np.amin(gxy))\n",
    "    #print(\"gxy shape\", gxy.shape)\n",
    "    albxy = np.sqrt(np.sum(gxy**2, axis = 0))\n",
    "    albedo_image = albxy.reshape((size_arr[0], size_arr[1]), order = 'F')\n",
    "    surnmlxy = gxy/albxy\n",
    "    surface_normals = surnmlxy.T.reshape((size_arr[0], size_arr[1], 3), order = 'F')\n",
    "    \n",
    "    return albedo_image, surface_normals\n",
    "    "
   ]
  },
  {
   "cell_type": "code",
   "execution_count": null,
   "metadata": {},
   "outputs": [],
   "source": [
    "def random_path(fx_cum, fy_cum, ntimes = 2):\n",
    "    \n",
    "    height_map = np.full((fx_cum.shape[0],fx_cum.shape[1]), fx_cum[0,0], dtype = np.float64)\n",
    "    \n",
    "    for num_paths in range(ntimes):\n",
    "        \n",
    "        for i in range(fx_cum.shape[0]):\n",
    "            for j in range(fx_cum.shape[1]):\n",
    "                prev = [0,0]\n",
    "                while (prev != [i,j]):                \n",
    "                    if (prev[1] == j):\n",
    "                        rdir = 0\n",
    "                    elif (prev[0] == i):\n",
    "                        rdir = 1\n",
    "                    else:\n",
    "                        rdir = np.random.randint(2)\n",
    "\n",
    "                    if rdir == 0:\n",
    "                        rlen = np.random.randint(prev[0]+1, i+1)\n",
    "                        height_map[i,j] += (fx_cum[rlen,prev[1]] - fx_cum[prev[0],prev[1]])\n",
    "                        prev[0] = rlen\n",
    "                    else:\n",
    "                        rlen = np.random.randint(prev[1]+1, j+1)\n",
    "                        height_map[i,j] += (fy_cum[prev[0],rlen] - fy_cum[prev[0],prev[1]])\n",
    "                        prev[1] = rlen\n",
    "    \n",
    "                    \n",
    "                    \n",
    "    return height_map/ntimes                \n",
    "                \n",
    "            \n",
    "             \n",
    "            \n",
    "    \n",
    "    "
   ]
  },
  {
   "cell_type": "code",
   "execution_count": null,
   "metadata": {},
   "outputs": [],
   "source": [
    "def get_surface(surface_normals, integration_method):\n",
    "    \"\"\"\n",
    "    Inputs:\n",
    "        surface_normals:h x w x 3\n",
    "        integration_method: string in ['average', 'column', 'row', 'random']\n",
    "    Outputs:\n",
    "        height_map: h x w\n",
    "        Convention used \" h is x and w is y\"\n",
    "    \"\"\"\n",
    "    #In image array, x is along height and y is along width \n",
    "    fy = surface_normals[:,:,0]/surface_normals[:,:,2]\n",
    "    fx = surface_normals[:,:,1]/surface_normals[:,:,2]\n",
    "    \n",
    "    fy_cum = np.cumsum(fy, axis = 1)\n",
    "    fx_cum = np.cumsum(fx, axis = 0)\n",
    "    \n",
    "    height_map1 =  fx_cum + fy_cum[0:1, :]\n",
    "    height_map2 =  fy_cum + fx_cum[:, 0:1]\n",
    "   \n",
    "    \n",
    "    #print(\"pd dtype\", fy_cum.dtype, fx_cum.dtype)\n",
    "    #print(\"pd range\", np.amin(fx_cum), np.amax(fy_cum))\n",
    "    \n",
    "    if integration_method == 'row':\n",
    "        return height_map1\n",
    "    elif integration_method == 'column':\n",
    "        return height_map2\n",
    "    elif integration_method == 'average':\n",
    "        return (height_map2 + height_map1)/2\n",
    "    elif integration_method == 'random':\n",
    "        return random_path(fx_cum, fy_cum, ntimes = 60)\n",
    "    else:\n",
    "        return heightmap1\n",
    "    \n",
    "    \n",
    "    \n",
    "    \n",
    "    "
   ]
  },
  {
   "cell_type": "markdown",
   "metadata": {},
   "source": [
    "# Main function"
   ]
  },
  {
   "cell_type": "code",
   "execution_count": null,
   "metadata": {},
   "outputs": [],
   "source": [
    "root_path = '../croppedyale/'\n",
    "subject_name = 'yaleB01'\n",
    "integration_method = 'random'\n",
    "save_flag = True\n",
    "\n",
    "full_path = '%s%s' % (root_path, subject_name)\n",
    "ambient_image, imarray, light_dirs = LoadFaceImages(full_path, subject_name,64)\n",
    "\n",
    "'''print(\"input sizes: ambient, image array, light dirs\", ambient_image.shape,imarray.shape,light_dirs.shape)\n",
    "print(\"ambient range\", np.amax(ambient_image),np.amin(ambient_image))'''\n",
    "\n",
    "processed_imarray = preprocess(ambient_image, imarray)\n",
    "'''print(\"processed size\", processed_imarray.shape)\n",
    "print(\"processed range\", np.amax(processed_imarray), np.amin(processed_imarray))'''\n",
    "\n",
    "albedo_image, surface_normals = photometric_stereo(processed_imarray,light_dirs)\n",
    "\n",
    "'''print(\"albedo + surface normal shape \", albedo_image.shape,surface_normals.shape )\n",
    "\n",
    "print(\"Albedo range\", np.amax(albedo_image), np.amin(albedo_image))\n",
    "print(\"surface normal range\" , np.amax(surface_normals), np.amin(surface_normals))\n",
    "\n",
    "#Check for unit normal\n",
    "mag = np.sqrt(surface_normals[:,:,0]**2 + surface_normals[:,:,1] **2 + surface_normals[:,:,2]**2) \n",
    "print(\"UN\", mag.shape, np.amax(mag), np.amin(mag))'''\n",
    "\n",
    "height_map = get_surface(surface_normals, integration_method)\n",
    "\n",
    "\n",
    "#print(\"height_map range\", np.amin(height_map), np.amax(height_map))\n",
    "\n",
    "if save_flag:\n",
    "    save_outputs(subject_name, albedo_image, surface_normals)"
   ]
  },
  {
   "cell_type": "code",
   "execution_count": null,
   "metadata": {},
   "outputs": [],
   "source": [
    "total_time = 0\n",
    "ntimes = 20\n",
    "for i in range(ntimes):\n",
    "    start = time.process_time()\n",
    "    height_map = get_surface(surface_normals, integration_method)\n",
    "    total_time  = total_time + (time.process_time() - start)\n",
    "\n",
    "print(\"Average time for \" + integration_method + \" is \",   total_time/ntimes)\n"
   ]
  },
  {
   "cell_type": "code",
   "execution_count": null,
   "metadata": {},
   "outputs": [],
   "source": [
    "plot_surface_normals(surface_normals)"
   ]
  },
  {
   "cell_type": "code",
   "execution_count": null,
   "metadata": {},
   "outputs": [],
   "source": [
    "%matplotlib notebook"
   ]
  },
  {
   "cell_type": "code",
   "execution_count": null,
   "metadata": {},
   "outputs": [],
   "source": [
    "display_output(albedo_image, height_map)"
   ]
  },
  {
   "cell_type": "code",
   "execution_count": null,
   "metadata": {},
   "outputs": [],
   "source": []
  },
  {
   "cell_type": "code",
   "execution_count": null,
   "metadata": {},
   "outputs": [],
   "source": []
  }
 ],
 "metadata": {
  "kernelspec": {
   "display_name": "Python 3",
   "language": "python",
   "name": "python3"
  },
  "language_info": {
   "codemirror_mode": {
    "name": "ipython",
    "version": 3
   },
   "file_extension": ".py",
   "mimetype": "text/x-python",
   "name": "python",
   "nbconvert_exporter": "python",
   "pygments_lexer": "ipython3",
   "version": "3.6.8"
  }
 },
 "nbformat": 4,
 "nbformat_minor": 2
}
